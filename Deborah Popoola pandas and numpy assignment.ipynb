{
 "cells": [
  {
   "cell_type": "code",
   "execution_count": 1,
   "id": "23378e5b",
   "metadata": {},
   "outputs": [
    {
     "ename": "NameError",
     "evalue": "name 'data' is not defined",
     "output_type": "error",
     "traceback": [
      "\u001b[1;31m---------------------------------------------------------------------------\u001b[0m",
      "\u001b[1;31mNameError\u001b[0m                                 Traceback (most recent call last)",
      "Input \u001b[1;32mIn [1]\u001b[0m, in \u001b[0;36m<cell line: 21>\u001b[1;34m()\u001b[0m\n\u001b[0;32m      1\u001b[0m \u001b[38;5;66;03m# 20 inbuilt pandas method\u001b[39;00m\n\u001b[0;32m      2\u001b[0m \n\u001b[0;32m      3\u001b[0m \u001b[38;5;66;03m# df.head()\u001b[39;00m\n\u001b[1;32m   (...)\u001b[0m\n\u001b[0;32m     19\u001b[0m \u001b[38;5;66;03m#data.shape()\u001b[39;00m\n\u001b[0;32m     20\u001b[0m \u001b[38;5;66;03m#\u001b[39;00m\n\u001b[1;32m---> 21\u001b[0m \u001b[43mdata\u001b[49m\u001b[38;5;241m.\u001b[39msize()\n",
      "\u001b[1;31mNameError\u001b[0m: name 'data' is not defined"
     ]
    }
   ],
   "source": [
    "# 20 inbuilt pandas method\n",
    "\n",
    "# df.head()\n",
    "#df.columns\n",
    "#len()\n",
    "#df.iloc()\n",
    "#df.loc()\n",
    "#df.insert()\n",
    "#df.sample()\n",
    "#df.replace()\n",
    "#df.rename()\n",
    "#df.groupby()\n",
    "#df.count()\n",
    "#pd.cut()\n",
    "#pd.qcut()\n",
    "#df.explode()\n",
    "#df.merge()\n",
    "#data.dtype()\n",
    "#data.shape()\n",
    "#data.size()\n",
    "#df.index()\n",
    "#df.isnull\n",
    "#df.nunique()\n"
   ]
  },
  {
   "cell_type": "code",
   "execution_count": null,
   "id": "fc9ca72a",
   "metadata": {},
   "outputs": [],
   "source": [
    "# 20 inbuilt numpy methods\n",
    "\n",
    "np.array()\n",
    "np.zeros()\n",
    "np.ones()\n",
    "np.eye()\n",
    "np.arrange()\n",
    "np.linspace()\n",
    "np.random.randint()\n",
    "np.polyfit()\n",
    "np.digitize()\n",
    "np.repeat()\n",
    "np.random()\n",
    "np.polyval()\n",
    "np.reshape()\n",
    "np.random.uniform()\n",
    "np.random.randit()\n",
    "np.logspace()\n",
    "np.full()\n",
    "np.identity()\n",
    "np.squeeze()\n",
    "np.percentile()\n",
    "\n",
    "\n",
    "\n",
    "\n",
    "\n"
   ]
  }
 ],
 "metadata": {
  "kernelspec": {
   "display_name": "Python 3 (ipykernel)",
   "language": "python",
   "name": "python3"
  },
  "language_info": {
   "codemirror_mode": {
    "name": "ipython",
    "version": 3
   },
   "file_extension": ".py",
   "mimetype": "text/x-python",
   "name": "python",
   "nbconvert_exporter": "python",
   "pygments_lexer": "ipython3",
   "version": "3.9.12"
  }
 },
 "nbformat": 4,
 "nbformat_minor": 5
}
